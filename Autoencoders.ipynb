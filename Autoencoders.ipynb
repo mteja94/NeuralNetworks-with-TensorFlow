{
 "cells": [
  {
   "cell_type": "code",
   "execution_count": 10,
   "metadata": {},
   "outputs": [],
   "source": [
    "def reset_graph(seed=42):\n",
    "    tf.reset_default_graph()\n",
    "    tf.set_random_seed(seed)\n",
    "    np.random.seed(seed)\n",
    "    \n",
    "import sys\n",
    "import os"
   ]
  },
  {
   "cell_type": "markdown",
   "metadata": {},
   "source": [
    "Performing PCA with an Undercomplete Linear Autoencoder"
   ]
  },
  {
   "cell_type": "markdown",
   "metadata": {},
   "source": [
    "If the autoencoder uses only linear activations and the cost function is the Mean Squared Error (MSE), then it can be shown that it ends up performing Principal Component Analysis."
   ]
  },
  {
   "cell_type": "markdown",
   "metadata": {},
   "source": [
    "Projection of 3D dataset to 2D"
   ]
  },
  {
   "cell_type": "markdown",
   "metadata": {},
   "source": [
    "Now, build 3D dataset."
   ]
  },
  {
   "cell_type": "code",
   "execution_count": 2,
   "metadata": {},
   "outputs": [],
   "source": [
    "import numpy as np\n",
    "import numpy.random as rnd\n",
    "\n",
    "rnd.seed(4)\n",
    "m = 200\n",
    "w1, w2 = 0.1, 0.3\n",
    "noise = 0.1\n",
    "\n",
    "angles = rnd.rand(m) * 3 * np.pi / 2 - 0.5\n",
    "data = np.empty((m, 3))\n",
    "data[:, 0] = np.cos(angles) + np.sin(angles) / 2 + noise * rnd.randn(m) / 2\n",
    "data[:, 1] = np.sin(angles) * 0.7 + noise * rnd.randn(m) / 2\n",
    "data[:, 2] = data[:, 0] * w1 + data[:, 1] * w2 + noise * rnd.randn(m)"
   ]
  },
  {
   "cell_type": "code",
   "execution_count": 3,
   "metadata": {},
   "outputs": [],
   "source": [
    "#data normalization\n",
    "from sklearn.preprocessing import StandardScaler\n",
    "\n",
    "scaler = StandardScaler()\n",
    "X_train = scaler.fit_transform(data[:100])\n",
    "X_test = scaler.transform(data[100:])"
   ]
  },
  {
   "cell_type": "code",
   "execution_count": 4,
   "metadata": {},
   "outputs": [],
   "source": [
    "import tensorflow as tf"
   ]
  },
  {
   "cell_type": "code",
   "execution_count": 5,
   "metadata": {},
   "outputs": [
    {
     "name": "stdout",
     "output_type": "stream",
     "text": [
      "WARNING:tensorflow:From <ipython-input-5-b9ca80f38b67>:8: dense (from tensorflow.python.layers.core) is deprecated and will be removed in a future version.\n",
      "Instructions for updating:\n",
      "Use keras.layers.dense instead.\n",
      "WARNING:tensorflow:From C:\\Users\\manog\\Anaconda3\\lib\\site-packages\\tensorflow\\python\\framework\\op_def_library.py:263: colocate_with (from tensorflow.python.framework.ops) is deprecated and will be removed in a future version.\n",
      "Instructions for updating:\n",
      "Colocations handled automatically by placer.\n"
     ]
    }
   ],
   "source": [
    "n_inputs = 3    #3D inputs\n",
    "n_hidden = 2    #2D codings\n",
    "n_outputs = n_inputs\n",
    "\n",
    "learning_rate = 0.01\n",
    "\n",
    "X = tf.placeholder(tf.float32, shape = [None, n_inputs])\n",
    "hidden = tf.layers.dense(X, n_hidden)\n",
    "outputs = tf.layers.dense(hidden, n_outputs)\n",
    "\n",
    "reconstruction_loss = tf.reduce_mean(tf.square(outputs - X))    #MSE\n",
    "optimizer = tf.train.AdamOptimizer(learning_rate = learning_rate)\n",
    "training_op = optimizer.minimize(reconstruction_loss)\n",
    "\n",
    "init = tf.global_variables_initializer()"
   ]
  },
  {
   "cell_type": "markdown",
   "metadata": {},
   "source": [
    "Now, we will train the model on the training set, and use it to encode the test set."
   ]
  },
  {
   "cell_type": "code",
   "execution_count": 6,
   "metadata": {},
   "outputs": [],
   "source": [
    "n_iterations = 1000\n",
    "codings = hidden     #output of the hidden layer\n",
    "\n",
    "with tf.Session() as sess:\n",
    "    init.run()\n",
    "    for iterations in range(n_iterations):\n",
    "        training_op.run(feed_dict = {X : X_train})    #no labels (unsupervised)\n",
    "    codings_val = codings.eval(feed_dict = {X : X_test})"
   ]
  },
  {
   "cell_type": "markdown",
   "metadata": {},
   "source": [
    "Stacked Autoencoders"
   ]
  },
  {
   "cell_type": "code",
   "execution_count": 7,
   "metadata": {},
   "outputs": [
    {
     "name": "stdout",
     "output_type": "stream",
     "text": [
      "WARNING:tensorflow:From <ipython-input-7-c50d5bb4a85c>:2: read_data_sets (from tensorflow.contrib.learn.python.learn.datasets.mnist) is deprecated and will be removed in a future version.\n",
      "Instructions for updating:\n",
      "Please use alternatives such as official/mnist/dataset.py from tensorflow/models.\n",
      "WARNING:tensorflow:From C:\\Users\\manog\\Anaconda3\\lib\\site-packages\\tensorflow\\contrib\\learn\\python\\learn\\datasets\\mnist.py:260: maybe_download (from tensorflow.contrib.learn.python.learn.datasets.base) is deprecated and will be removed in a future version.\n",
      "Instructions for updating:\n",
      "Please write your own downloading logic.\n",
      "WARNING:tensorflow:From C:\\Users\\manog\\Anaconda3\\lib\\site-packages\\tensorflow\\contrib\\learn\\python\\learn\\datasets\\base.py:252: _internal_retry.<locals>.wrap.<locals>.wrapped_fn (from tensorflow.contrib.learn.python.learn.datasets.base) is deprecated and will be removed in a future version.\n",
      "Instructions for updating:\n",
      "Please use urllib or similar directly.\n",
      "Successfully downloaded train-images-idx3-ubyte.gz 9912422 bytes.\n",
      "WARNING:tensorflow:From C:\\Users\\manog\\Anaconda3\\lib\\site-packages\\tensorflow\\contrib\\learn\\python\\learn\\datasets\\mnist.py:262: extract_images (from tensorflow.contrib.learn.python.learn.datasets.mnist) is deprecated and will be removed in a future version.\n",
      "Instructions for updating:\n",
      "Please use tf.data to implement this functionality.\n",
      "Extracting /tmp/data/train-images-idx3-ubyte.gz\n",
      "Successfully downloaded train-labels-idx1-ubyte.gz 28881 bytes.\n",
      "WARNING:tensorflow:From C:\\Users\\manog\\Anaconda3\\lib\\site-packages\\tensorflow\\contrib\\learn\\python\\learn\\datasets\\mnist.py:267: extract_labels (from tensorflow.contrib.learn.python.learn.datasets.mnist) is deprecated and will be removed in a future version.\n",
      "Instructions for updating:\n",
      "Please use tf.data to implement this functionality.\n",
      "Extracting /tmp/data/train-labels-idx1-ubyte.gz\n",
      "Successfully downloaded t10k-images-idx3-ubyte.gz 1648877 bytes.\n",
      "Extracting /tmp/data/t10k-images-idx3-ubyte.gz\n",
      "Successfully downloaded t10k-labels-idx1-ubyte.gz 4542 bytes.\n",
      "Extracting /tmp/data/t10k-labels-idx1-ubyte.gz\n",
      "WARNING:tensorflow:From C:\\Users\\manog\\Anaconda3\\lib\\site-packages\\tensorflow\\contrib\\learn\\python\\learn\\datasets\\mnist.py:290: DataSet.__init__ (from tensorflow.contrib.learn.python.learn.datasets.mnist) is deprecated and will be removed in a future version.\n",
      "Instructions for updating:\n",
      "Please use alternatives such as official/mnist/dataset.py from tensorflow/models.\n"
     ]
    }
   ],
   "source": [
    "from tensorflow.examples.tutorials.mnist import input_data\n",
    "mnist = input_data.read_data_sets(\"/tmp/data/\")"
   ]
  },
  {
   "cell_type": "markdown",
   "metadata": {},
   "source": [
    "Now, we will build a stacked Autoencoder with 3 hidden layers and 1 output layer (ie. 2 stacked Autoencoders). We will use ELU activation, He initialization and L2 regularization."
   ]
  },
  {
   "cell_type": "code",
   "execution_count": 8,
   "metadata": {},
   "outputs": [],
   "source": [
    "reset_graph()\n",
    "\n",
    "from functools import partial\n",
    "\n",
    "n_inputs = 28*28\n",
    "n_hidden1 = 300\n",
    "n_hidden2 = 150    #codings\n",
    "n_hidden3 = n_hidden1\n",
    "n_outputs = n_inputs\n",
    "\n",
    "learning_rate = 0.01\n",
    "l2_reg = 0.0001\n",
    "\n",
    "X = tf.placeholder(tf.float32, shape = [None, n_inputs])\n",
    "\n",
    "he_init = tf.contrib.layers.variance_scaling_initializer()    #He initialization\n",
    "l2_regularizer = tf.contrib.layers.l2_regularizer(l2_reg)\n",
    "my_dense_layer = partial(tf.layers.dense, activation = tf.nn.elu, kernel_initializer = he_init, kernel_regularizer = l2_regularizer)\n",
    "\n",
    "hidden1 = my_dense_layer(X, n_hidden1)\n",
    "hidden2 = my_dense_layer(hidden1, n_hidden2)\n",
    "hidden3 = my_dense_layer(hidden2, n_hidden3)\n",
    "outputs = my_dense_layer(hidden3, n_outputs, activation = None)\n",
    "\n",
    "reconstruction_loss = tf.reduce_mean(tf.square(outputs - X))\n",
    "\n",
    "reg_losses = tf.get_collection(tf.GraphKeys.REGULARIZATION_LOSSES)\n",
    "loss = tf.add_n([reconstruction_loss] + reg_losses)\n",
    "\n",
    "optimizer = tf.train.AdamOptimizer(learning_rate)\n",
    "training_op = optimizer.minimize(loss)\n",
    "\n",
    "init = tf.global_variables_initializer()\n",
    "saver = tf.train.Saver()"
   ]
  },
  {
   "cell_type": "markdown",
   "metadata": {},
   "source": [
    "Now, we will train this model (unsupervised training)."
   ]
  },
  {
   "cell_type": "code",
   "execution_count": 11,
   "metadata": {},
   "outputs": [
    {
     "name": "stdout",
     "output_type": "stream",
     "text": [
      "0 Train MSE: 0.020302366\n",
      "1 Train MSE: 0.011643217\n",
      "2 Train MSE: 0.010225878\n",
      "3 Train MSE: 0.009900047\n",
      "4 Train MSE: 0.01037747\n"
     ]
    }
   ],
   "source": [
    "n_epochs = 5\n",
    "batch_size = 150\n",
    "\n",
    "with tf.Session() as sess:\n",
    "    init.run()\n",
    "    for epoch in range(n_epochs):\n",
    "        n_batches = mnist.train.num_examples // batch_size\n",
    "        for iteration in range(n_batches):\n",
    "            print(\"\\r{}%\".format(100 * iteration // n_batches), end = \"\")\n",
    "            sys.stdout.flush()\n",
    "            X_batch, y_batch = mnist.train.next_batch(batch_size)\n",
    "            sess.run(training_op, feed_dict = {X: X_batch})\n",
    "        loss_train = reconstruction_loss.eval(feed_dict = {X: X_batch})\n",
    "        print(\"\\r{}\".format(epoch), \"Train MSE:\", loss_train)\n",
    "        saver.save(sess, \"./my_model_all_layers.ckpt\")"
   ]
  },
  {
   "cell_type": "markdown",
   "metadata": {},
   "source": [
    "The below function loads the model, evaluates it on the test set (it measures the reconstruction error), then it displays the original image and its reconstruction."
   ]
  },
  {
   "cell_type": "code",
   "execution_count": 12,
   "metadata": {},
   "outputs": [],
   "source": [
    "%matplotlib inline\n",
    "import matplotlib\n",
    "import matplotlib.pyplot as plt"
   ]
  },
  {
   "cell_type": "code",
   "execution_count": 13,
   "metadata": {},
   "outputs": [],
   "source": [
    "def show_reconstructed_digits(X, outputs, model_path = None, n_test_digits = 2):\n",
    "    with tf.Session() as sess:\n",
    "        if model_path:\n",
    "            saver.restore(sess, model_path)\n",
    "        X_test = mnist.test.images[:n_test_digits]\n",
    "        outputs_val = outputs.eval(feed_dict = {X: X_test})\n",
    "\n",
    "    fig = plt.figure(figsize=(8, 3 * n_test_digits))\n",
    "    for digit_index in range(n_test_digits):\n",
    "        plt.subplot(n_test_digits, 2, digit_index * 2 + 1)\n",
    "        plot_image(X_test[digit_index])\n",
    "        plt.subplot(n_test_digits, 2, digit_index * 2 + 2)\n",
    "        plot_image(outputs_val[digit_index])"
   ]
  },
  {
   "cell_type": "code",
   "execution_count": 15,
   "metadata": {},
   "outputs": [],
   "source": [
    "def plot_image(image, shape = [28, 28]):\n",
    "    plt.imshow(image.reshape(shape), cmap = \"Greys\", interpolation = \"nearest\")\n",
    "    plt.axis(\"off\")"
   ]
  },
  {
   "cell_type": "code",
   "execution_count": 16,
   "metadata": {},
   "outputs": [],
   "source": [
    "def plot_multiple_images(images, n_rows, n_cols, pad=2):\n",
    "    images = images - images.min()    #make the minimum == 0, so the padding looks white\n",
    "    w, h = images.shape[1:]\n",
    "    image = np.zeros(((w + pad) * n_rows + pad, (h + pad) * n_cols + pad))\n",
    "    for y in range(n_rows):\n",
    "        for x in range(n_cols):\n",
    "            image[(y*(h+pad)+pad):(y*(h+pad)+pad+h),(x*(w+pad)+pad):(x*(w+pad)+pad+w)] = images[y*n_cols+x]\n",
    "    plt.imshow(image, cmap = \"Greys\", interpolation = \"nearest\")\n",
    "    plt.axis(\"off\")"
   ]
  },
  {
   "cell_type": "code",
   "execution_count": 18,
   "metadata": {},
   "outputs": [
    {
     "name": "stdout",
     "output_type": "stream",
     "text": [
      "INFO:tensorflow:Restoring parameters from ./my_model_all_layers.ckpt\n"
     ]
    },
    {
     "data": {
      "image/png": "[encoded data removed]",
      "text/plain": [
       "<Figure size 576x432 with 4 Axes>"
      ]
     },
     "metadata": {
      "needs_background": "light"
     },
     "output_type": "display_data"
    }
   ],
   "source": [
    "show_reconstructed_digits(X, outputs, \"./my_model_all_layers.ckpt\")"
   ]
  },
  {
   "cell_type": "markdown",
   "metadata": {},
   "source": [
    "Tying weights"
   ]
  },
  {
   "cell_type": "markdown",
   "metadata": {},
   "source": [
    "It is common to tie the weights of the encoder and the decoder (weights_decoder = tf.transpose(weights_encoder)). "
   ]
  },
  {
   "cell_type": "markdown",
   "metadata": {},
   "source": [
    "Unfortunately, this makes it impossible (or very tricky) to use the tf.layers.dense() function, so we need to build the Autoencoder manually."
   ]
  },
  {
   "cell_type": "code",
   "execution_count": 19,
   "metadata": {},
   "outputs": [],
   "source": [
    "reset_graph()\n",
    "\n",
    "n_inputs = 28*28\n",
    "n_hidden1 = 300\n",
    "n_hidden2 = 150    #codings\n",
    "n_hidden3 = n_hidden1\n",
    "n_outputs = n_inputs\n",
    "\n",
    "learning_rate = 0.01\n",
    "l2_reg = 0.0005"
   ]
  },
  {
   "cell_type": "code",
   "execution_count": 20,
   "metadata": {},
   "outputs": [],
   "source": [
    "activation = tf.nn.elu\n",
    "regularizer = tf.contrib.layers.l2_regularizer(l2_reg)\n",
    "initializer = tf.contrib.layers.variance_scaling_initializer()\n",
    "\n",
    "X = tf.placeholder(tf.float32, shape = [None, n_inputs])\n",
    "\n",
    "weights1_init = initializer([n_inputs, n_hidden1])\n",
    "weights2_init = initializer([n_hidden1, n_hidden2])\n",
    "\n",
    "weights1 = tf.Variable(weights1_init, dtype = tf.float32, name = \"weights1\")\n",
    "weights2 = tf.Variable(weights2_init, dtype = tf.float32, name = \"weights2\")\n",
    "weights3 = tf.transpose(weights2, name = \"weights3\")    #tied weights, not a variable\n",
    "weights4 = tf.transpose(weights1, name = \"weights4\")    #tied weights, not a variable\n",
    "\n",
    "biases1 = tf.Variable(tf.zeros(n_hidden1), name = \"biases1\")\n",
    "biases2 = tf.Variable(tf.zeros(n_hidden2), name = \"biases2\")\n",
    "biases3 = tf.Variable(tf.zeros(n_hidden3), name = \"biases3\")\n",
    "biases4 = tf.Variable(tf.zeros(n_outputs), name = \"biases4\")\n",
    "\n",
    "hidden1 = activation(tf.matmul(X, weights1) + biases1)\n",
    "hidden2 = activation(tf.matmul(hidden1, weights2) + biases2)\n",
    "hidden3 = activation(tf.matmul(hidden2, weights3) + biases3)\n",
    "outputs = tf.matmul(hidden3, weights4) + biases4\n",
    "\n",
    "reconstruction_loss = tf.reduce_mean(tf.square(outputs - X))\n",
    "reg_loss = regularizer(weights1) + regularizer(weights2)\n",
    "loss = reconstruction_loss + reg_loss\n",
    "\n",
    "optimizer = tf.train.AdamOptimizer(learning_rate)\n",
    "training_op = optimizer.minimize(loss)\n",
    "\n",
    "init = tf.global_variables_initializer()\n",
    "saver = tf.train.Saver()"
   ]
  },
  {
   "cell_type": "code",
   "execution_count": 21,
   "metadata": {},
   "outputs": [
    {
     "name": "stdout",
     "output_type": "stream",
     "text": [
      "0 Train MSE: 0.01506695\n",
      "1 Train MSE: 0.016488738\n",
      "2 Train MSE: 0.017375927\n",
      "3 Train MSE: 0.016878325\n",
      "4 Train MSE: 0.015587717\n"
     ]
    }
   ],
   "source": [
    "n_epochs = 5\n",
    "batch_size = 150\n",
    "\n",
    "with tf.Session() as sess:\n",
    "    init.run()\n",
    "    for epoch in range(n_epochs):\n",
    "        n_batches = mnist.train.num_examples // batch_size\n",
    "        for iteration in range(n_batches):\n",
    "            print(\"\\r{}%\".format(100 * iteration // n_batches), end = \"\")\n",
    "            sys.stdout.flush()\n",
    "            X_batch, y_batch = mnist.train.next_batch(batch_size)\n",
    "            sess.run(training_op, feed_dict = {X: X_batch})\n",
    "        loss_train = reconstruction_loss.eval(feed_dict = {X: X_batch})\n",
    "        print(\"\\r{}\".format(epoch), \"Train MSE:\", loss_train)\n",
    "        saver.save(sess, \"./my_model_tying_weights.ckpt\")"
   ]
  },
  {
   "cell_type": "code",
   "execution_count": 22,
   "metadata": {},
   "outputs": [
    {
     "name": "stdout",
     "output_type": "stream",
     "text": [
      "INFO:tensorflow:Restoring parameters from ./my_model_tying_weights.ckpt\n"
     ]
    },
    {
     "data": {
      "image/png": "[encoded data removed]",
      "text/plain": [
       "<Figure size 576x432 with 4 Axes>"
      ]
     },
     "metadata": {
      "needs_background": "light"
     },
     "output_type": "display_data"
    }
   ],
   "source": [
    "show_reconstructed_digits(X, outputs, \"./my_model_tying_weights.ckpt\")"
   ]
  },
  {
   "cell_type": "markdown",
   "metadata": {},
   "source": [
    "Training one Autoencoder at a time in multiple graphs"
   ]
  },
  {
   "cell_type": "markdown",
   "metadata": {},
   "source": [
    "There are many ways to train one Autoencoder at a time."
   ]
  },
  {
   "cell_type": "markdown",
   "metadata": {},
   "source": [
    "The first approach is to train each Autoencoder using a different graph, then we create the Stacked Autoencoder by simply initializing it with the weights and biases copied from these Autoencoders."
   ]
  },
  {
   "cell_type": "markdown",
   "metadata": {},
   "source": [
    "Now, we will create a function that will train one autoencoder and return the transformed training set (i.e., the output of the hidden layer) and the model parameters."
   ]
  },
  {
   "cell_type": "code",
   "execution_count": 28,
   "metadata": {},
   "outputs": [],
   "source": [
    "reset_graph()\n",
    "\n",
    "from functools import partial\n",
    "\n",
    "def train_autoencoder(X_train, n_neurons, n_epochs, batch_size, learning_rate = 0.01, l2_reg = 0.0005, seed = 42,\n",
    "                      hidden_activation = tf.nn.elu, output_activation = tf.nn.elu):\n",
    "    graph = tf.Graph()\n",
    "    with graph.as_default():\n",
    "        tf.set_random_seed(seed)\n",
    "\n",
    "        n_inputs = X_train.shape[1]\n",
    "\n",
    "        X = tf.placeholder(tf.float32, shape = [None, n_inputs])\n",
    "        \n",
    "        my_dense_layer = partial(tf.layers.dense, kernel_initializer = tf.contrib.layers.variance_scaling_initializer(),\n",
    "                                 kernel_regularizer = tf.contrib.layers.l2_regularizer(l2_reg))\n",
    "\n",
    "        hidden = my_dense_layer(X, n_neurons, activation = hidden_activation, name = \"hidden\")\n",
    "        outputs = my_dense_layer(hidden, n_inputs, activation = output_activation, name = \"outputs\")\n",
    "\n",
    "        reconstruction_loss = tf.reduce_mean(tf.square(outputs - X))\n",
    "\n",
    "        reg_losses = tf.get_collection(tf.GraphKeys.REGULARIZATION_LOSSES)\n",
    "        loss = tf.add_n([reconstruction_loss] + reg_losses)\n",
    "\n",
    "        optimizer = tf.train.AdamOptimizer(learning_rate)\n",
    "        training_op = optimizer.minimize(loss)\n",
    "        \n",
    "        init = tf.global_variables_initializer()\n",
    "        \n",
    "        with tf.Session(graph = graph) as sess:\n",
    "            init.run()\n",
    "            for epoch in range(n_epochs):\n",
    "                n_batches = len(X_train) // batch_size\n",
    "                for iteration in range(n_batches):\n",
    "                    print(\"\\r{}%\".format(100 * iteration // n_batches), end = \"\")\n",
    "                    sys.stdout.flush()\n",
    "                    indices = rnd.permutation(len(X_train))[:batch_size]\n",
    "                    X_batch = X_train[indices]\n",
    "                    sess.run(training_op, feed_dict = {X: X_batch})\n",
    "                loss_train = reconstruction_loss.eval(feed_dict = {X: X_batch})\n",
    "                print(\"\\r{}\".format(epoch), \"Train MSE:\", loss_train)\n",
    "            params = dict([(var.name, var.eval()) for var in tf.get_collection(tf.GraphKeys.TRAINABLE_VARIABLES)])\n",
    "            hidden_val = hidden.eval(feed_dict = {X: X_train})\n",
    "            return hidden_val, params[\"hidden/kernel:0\"], params[\"hidden/bias:0\"], params[\"outputs/kernel:0\"], params[\"outputs/bias:0\"]"
   ]
  },
  {
   "cell_type": "markdown",
   "metadata": {},
   "source": [
    "Now, we will train two Autoencoders. The first one is trained on the training data, and the second is trained on the previous Autoencoder's hidden layer output."
   ]
  },
  {
   "cell_type": "code",
   "execution_count": 29,
   "metadata": {},
   "outputs": [
    {
     "name": "stdout",
     "output_type": "stream",
     "text": [
      "0 Train MSE: 0.018517934\n",
      "1 Train MSE: 0.018682716\n",
      "2 Train MSE: 0.018467715\n",
      "3 Train MSE: 0.019231727\n",
      "0 Train MSE: 0.0042361096\n",
      "1 Train MSE: 0.004832683\n",
      "2 Train MSE: 0.0046687485\n",
      "3 Train MSE: 0.00440391\n"
     ]
    }
   ],
   "source": [
    "hidden_output, W1, b1, W4, b4 = train_autoencoder(mnist.train.images, n_neurons = 300, n_epochs = 4, batch_size = 150,\n",
    "                                                  output_activation = None)\n",
    "_, W2, b2, W3, b3 = train_autoencoder(hidden_output, n_neurons = 150, n_epochs = 4, batch_size = 150)"
   ]
  },
  {
   "cell_type": "markdown",
   "metadata": {},
   "source": [
    "Finally, we can create a Stacked Autoencoder by simply reusing the weights and biases from the Autoencoders we just trained."
   ]
  },
  {
   "cell_type": "code",
   "execution_count": 30,
   "metadata": {},
   "outputs": [],
   "source": [
    "reset_graph()\n",
    "\n",
    "n_inputs = 28*28\n",
    "\n",
    "X = tf.placeholder(tf.float32, shape = [None, n_inputs])\n",
    "hidden1 = tf.nn.elu(tf.matmul(X, W1) + b1)\n",
    "hidden2 = tf.nn.elu(tf.matmul(hidden1, W2) + b2)\n",
    "hidden3 = tf.nn.elu(tf.matmul(hidden2, W3) + b3)\n",
    "outputs = tf.matmul(hidden3, W4) + b4"
   ]
  },
  {
   "cell_type": "code",
   "execution_count": 31,
   "metadata": {},
   "outputs": [
    {
     "data": {
      "image/png": "[encoded data removed]",
      "text/plain": [
       "<Figure size 576x432 with 4 Axes>"
      ]
     },
     "metadata": {
      "needs_background": "light"
     },
     "output_type": "display_data"
    }
   ],
   "source": [
    "show_reconstructed_digits(X, outputs)"
   ]
  },
  {
   "cell_type": "markdown",
   "metadata": {},
   "source": [
    "Training one Autoencoder at a time in a single graph"
   ]
  },
  {
   "cell_type": "markdown",
   "metadata": {},
   "source": [
    "Another approach is to use a single graph."
   ]
  },
  {
   "cell_type": "markdown",
   "metadata": {},
   "source": [
    "To do this, we create the graph for the full Stacked Autoencoder, but then we also add operations to train each Autoencoder independently: phase 1 trains the bottom and top layer (ie. the first Autoencoder) and phase 2 trains the two middle layers (ie. the second Autoencoder)."
   ]
  },
  {
   "cell_type": "code",
   "execution_count": 32,
   "metadata": {},
   "outputs": [],
   "source": [
    "reset_graph()\n",
    "\n",
    "n_inputs = 28*28\n",
    "n_hidden1 = 300\n",
    "n_hidden2 = 150    #codings\n",
    "n_hidden3 = n_hidden1\n",
    "n_outputs = n_inputs\n",
    "\n",
    "learning_rate = 0.01\n",
    "l2_reg = 0.0001\n",
    "\n",
    "activation = tf.nn.elu\n",
    "regularizer = tf.contrib.layers.l2_regularizer(l2_reg)\n",
    "initializer = tf.contrib.layers.variance_scaling_initializer()\n",
    "\n",
    "X = tf.placeholder(tf.float32, shape = [None, n_inputs])\n",
    "\n",
    "weights1_init = initializer([n_inputs, n_hidden1])\n",
    "weights2_init = initializer([n_hidden1, n_hidden2])\n",
    "weights3_init = initializer([n_hidden2, n_hidden3])\n",
    "weights4_init = initializer([n_hidden3, n_outputs])\n",
    "\n",
    "weights1 = tf.Variable(weights1_init, dtype = tf.float32, name = \"weights1\")\n",
    "weights2 = tf.Variable(weights2_init, dtype = tf.float32, name = \"weights2\")\n",
    "weights3 = tf.Variable(weights3_init, dtype = tf.float32, name = \"weights3\")\n",
    "weights4 = tf.Variable(weights4_init, dtype = tf.float32, name = \"weights4\")\n",
    "\n",
    "biases1 = tf.Variable(tf.zeros(n_hidden1), name = \"biases1\")\n",
    "biases2 = tf.Variable(tf.zeros(n_hidden2), name = \"biases2\")\n",
    "biases3 = tf.Variable(tf.zeros(n_hidden3), name = \"biases3\")\n",
    "biases4 = tf.Variable(tf.zeros(n_outputs), name = \"biases4\")\n",
    "\n",
    "hidden1 = activation(tf.matmul(X, weights1) + biases1)\n",
    "hidden2 = activation(tf.matmul(hidden1, weights2) + biases2)\n",
    "hidden3 = activation(tf.matmul(hidden2, weights3) + biases3)\n",
    "outputs = tf.matmul(hidden3, weights4) + biases4\n",
    "\n",
    "reconstruction_loss = tf.reduce_mean(tf.square(outputs - X))\n",
    "optimizer = tf.train.AdamOptimizer(learning_rate = learning_rate)"
   ]
  },
  {
   "cell_type": "code",
   "execution_count": 33,
   "metadata": {},
   "outputs": [],
   "source": [
    "with tf.name_scope(\"phase1\"):\n",
    "    phase1_outputs = tf.matmul(hidden1, weights4) + biases4     #bypass hidden2 and hidden3\n",
    "    phase1_reconstruction_loss = tf.reduce_mean(tf.square(phase1_outputs - X))\n",
    "    phase1_reg_loss = regularizer(weights1) + regularizer(weights4)\n",
    "    phase1_loss = phase1_reconstruction_loss + phase1_reg_loss\n",
    "    phase1_training_op = optimizer.minimize(phase1_loss)\n",
    "\n",
    "with tf.name_scope(\"phase2\"):\n",
    "    phase2_reconstruction_loss = tf.reduce_mean(tf.square(hidden3 - hidden1))\n",
    "    phase2_reg_loss = regularizer(weights2) + regularizer(weights3)\n",
    "    phase2_loss = phase2_reconstruction_loss + phase2_reg_loss\n",
    "    train_vars = [weights2, biases2, weights3, biases3]\n",
    "    phase2_training_op = optimizer.minimize(phase2_loss, var_list = train_vars)    #freeze hidden1\n",
    "    \n",
    "init = tf.global_variables_initializer()\n",
    "saver = tf.train.Saver()"
   ]
  },
  {
   "cell_type": "code",
   "execution_count": 34,
   "metadata": {},
   "outputs": [
    {
     "name": "stdout",
     "output_type": "stream",
     "text": [
      "Training phase #1\n",
      "0 Train MSE: 0.0074068652\n",
      "1 Train MSE: 0.007828818\n",
      "2 Train MSE: 0.007728095\n",
      "3 Train MSE: 0.0074090054\n",
      "Training phase #2\n",
      "0 Train MSE: 0.3257826\n",
      "1 Train MSE: 0.005739537\n",
      "2 Train MSE: 0.0029418443\n",
      "3 Train MSE: 0.0024437667\n",
      "Test MSE: 0.009802573\n"
     ]
    }
   ],
   "source": [
    "training_ops = [phase1_training_op, phase2_training_op]\n",
    "reconstruction_losses = [phase1_reconstruction_loss, phase2_reconstruction_loss]\n",
    "n_epochs = [4, 4]\n",
    "batch_sizes = [150, 150]\n",
    "\n",
    "with tf.Session() as sess:\n",
    "    init.run()\n",
    "    for phase in range(2):\n",
    "        print(\"Training phase #{}\".format(phase + 1))\n",
    "        for epoch in range(n_epochs[phase]):\n",
    "            n_batches = mnist.train.num_examples // batch_sizes[phase]\n",
    "            for iteration in range(n_batches):\n",
    "                print(\"\\r{}%\".format(100 * iteration // n_batches), end = \"\")\n",
    "                sys.stdout.flush()\n",
    "                X_batch, y_batch = mnist.train.next_batch(batch_sizes[phase])\n",
    "                sess.run(training_ops[phase], feed_dict = {X: X_batch})\n",
    "            loss_train = reconstruction_losses[phase].eval(feed_dict = {X: X_batch})\n",
    "            print(\"\\r{}\".format(epoch), \"Train MSE:\", loss_train)\n",
    "            saver.save(sess, \"./my_model_one_at_a_time.ckpt\")\n",
    "    loss_test = reconstruction_loss.eval(feed_dict = {X: mnist.test.images})\n",
    "    print(\"Test MSE:\", loss_test)"
   ]
  },
  {
   "cell_type": "markdown",
   "metadata": {},
   "source": [
    "Visualizing the Reconstructions"
   ]
  },
  {
   "cell_type": "markdown",
   "metadata": {},
   "source": [
    "One way to ensure that an autoencoder is properly trained is to compare the inputs and the outputs."
   ]
  },
  {
   "cell_type": "markdown",
   "metadata": {},
   "source": [
    "Now, we will plot two random digits and their reconstructions."
   ]
  },
  {
   "cell_type": "code",
   "execution_count": 35,
   "metadata": {},
   "outputs": [
    {
     "name": "stdout",
     "output_type": "stream",
     "text": [
      "INFO:tensorflow:Restoring parameters from ./my_model_one_at_a_time.ckpt\n"
     ]
    },
    {
     "data": {
      "image/png": "[encoded data removed]",
      "text/plain": [
       "<Figure size 432x288 with 4 Axes>"
      ]
     },
     "metadata": {
      "needs_background": "light"
     },
     "output_type": "display_data"
    }
   ],
   "source": [
    "n_test_digits = 2\n",
    "X_test = mnist.test.images[:n_test_digits]\n",
    "\n",
    "with tf.Session() as sess:\n",
    "    saver.restore(sess, \"./my_model_one_at_a_time.ckpt\")\n",
    "    outputs_val = outputs.eval(feed_dict={X: X_test})\n",
    "\n",
    "def plot_image(image, shape = [28, 28]):\n",
    "    plt.imshow(image.reshape(shape), cmap = \"Greys\", interpolation = \"nearest\")\n",
    "    plt.axis(\"off\")\n",
    "\n",
    "for digit_index in range(n_test_digits):\n",
    "    plt.subplot(n_test_digits, 2, digit_index * 2 + 1)\n",
    "    plot_image(X_test[digit_index])\n",
    "    plt.subplot(n_test_digits, 2, digit_index * 2 + 2)\n",
    "    plot_image(outputs_val[digit_index])"
   ]
  },
  {
   "cell_type": "markdown",
   "metadata": {},
   "source": [
    "Visualizing the extracted features"
   ]
  },
  {
   "cell_type": "code",
   "execution_count": 36,
   "metadata": {},
   "outputs": [
    {
     "name": "stdout",
     "output_type": "stream",
     "text": [
      "INFO:tensorflow:Restoring parameters from ./my_model_one_at_a_time.ckpt\n"
     ]
    },
    {
     "data": {
      "image/png": "[encoded data removed]",
      "text/plain": [
       "<Figure size 432x288 with 5 Axes>"
      ]
     },
     "metadata": {
      "needs_background": "light"
     },
     "output_type": "display_data"
    }
   ],
   "source": [
    "with tf.Session() as sess:\n",
    "    saver.restore(sess, \"./my_model_one_at_a_time.ckpt\")\n",
    "    weights1_val = weights1.eval()\n",
    "\n",
    "for i in range(5):\n",
    "    plt.subplot(1, 5, i + 1)\n",
    "    plot_image(weights1_val.T[i])\n",
    "\n",
    "plt.show()"
   ]
  },
  {
   "cell_type": "markdown",
   "metadata": {},
   "source": [
    "Unsupervised Pretraining using Stacked Autoencoders"
   ]
  },
  {
   "cell_type": "code",
   "execution_count": 37,
   "metadata": {},
   "outputs": [],
   "source": [
    "reset_graph()\n",
    "\n",
    "n_inputs = 28*28\n",
    "n_hidden1 = 300\n",
    "n_hidden2 = 150\n",
    "n_outputs = 10\n",
    "\n",
    "learning_rate = 0.01\n",
    "l2_reg = 0.0005\n",
    "\n",
    "activation = tf.nn.elu\n",
    "regularizer = tf.contrib.layers.l2_regularizer(l2_reg)\n",
    "initializer = tf.contrib.layers.variance_scaling_initializer()\n",
    "\n",
    "X = tf.placeholder(tf.float32, shape = [None, n_inputs])\n",
    "y = tf.placeholder(tf.int32, shape = [None])\n",
    "\n",
    "weights1_init = initializer([n_inputs, n_hidden1])\n",
    "weights2_init = initializer([n_hidden1, n_hidden2])\n",
    "weights3_init = initializer([n_hidden2, n_outputs])\n",
    "\n",
    "weights1 = tf.Variable(weights1_init, dtype = tf.float32, name = \"weights1\")\n",
    "weights2 = tf.Variable(weights2_init, dtype = tf.float32, name = \"weights2\")\n",
    "weights3 = tf.Variable(weights3_init, dtype = tf.float32, name = \"weights3\")\n",
    "\n",
    "biases1 = tf.Variable(tf.zeros(n_hidden1), name = \"biases1\")\n",
    "biases2 = tf.Variable(tf.zeros(n_hidden2), name = \"biases2\")\n",
    "biases3 = tf.Variable(tf.zeros(n_outputs), name = \"biases3\")\n",
    "\n",
    "hidden1 = activation(tf.matmul(X, weights1) + biases1)\n",
    "hidden2 = activation(tf.matmul(hidden1, weights2) + biases2)\n",
    "logits = tf.matmul(hidden2, weights3) + biases3\n",
    "\n",
    "cross_entropy = tf.nn.sparse_softmax_cross_entropy_with_logits(labels = y, logits = logits)\n",
    "reg_loss = regularizer(weights1) + regularizer(weights2) + regularizer(weights3)\n",
    "loss = cross_entropy + reg_loss\n",
    "optimizer = tf.train.AdamOptimizer(learning_rate)\n",
    "training_op = optimizer.minimize(loss)\n",
    "\n",
    "correct = tf.cast(tf.nn.in_top_k(logits, y, 1), tf.float32)\n",
    "accuracy = tf.reduce_mean(correct)\n",
    "\n",
    "init = tf.global_variables_initializer()\n",
    "pretrain_saver = tf.train.Saver([weights1, weights2, biases1, biases2])\n",
    "saver = tf.train.Saver()"
   ]
  },
  {
   "cell_type": "markdown",
   "metadata": {},
   "source": [
    "Regular training"
   ]
  },
  {
   "cell_type": "code",
   "execution_count": 38,
   "metadata": {},
   "outputs": [
    {
     "name": "stdout",
     "output_type": "stream",
     "text": [
      "0 Train accuracy: 0.94666666 Test accuracy: 0.907\n",
      "1 Train accuracy: 0.93333334 Test accuracy: 0.9252\n",
      "2 Train accuracy: 0.93333334 Test accuracy: 0.9373\n",
      "3 Train accuracy: 0.98 Test accuracy: 0.9442\n"
     ]
    }
   ],
   "source": [
    "n_epochs = 4\n",
    "batch_size = 150\n",
    "n_labeled_instances = 20000\n",
    "\n",
    "with tf.Session() as sess:\n",
    "    init.run()\n",
    "    for epoch in range(n_epochs):\n",
    "        n_batches = n_labeled_instances // batch_size\n",
    "        for iteration in range(n_batches):\n",
    "            print(\"\\r{}%\".format(100 * iteration // n_batches), end=\"\")\n",
    "            sys.stdout.flush()\n",
    "            indices = rnd.permutation(n_labeled_instances)[:batch_size]\n",
    "            X_batch, y_batch = mnist.train.images[indices], mnist.train.labels[indices]\n",
    "            sess.run(training_op, feed_dict = {X: X_batch, y: y_batch})\n",
    "        accuracy_val = accuracy.eval(feed_dict = {X: X_batch, y: y_batch})\n",
    "        print(\"\\r{}\".format(epoch), \"Train accuracy:\", accuracy_val, end=\" \")\n",
    "        saver.save(sess, \"./my_model_supervised.ckpt\")\n",
    "        accuracy_val = accuracy.eval(feed_dict = {X: mnist.test.images, y: mnist.test.labels})\n",
    "        print(\"Test accuracy:\", accuracy_val)"
   ]
  },
  {
   "cell_type": "markdown",
   "metadata": {},
   "source": [
    "Denoising Autoencoders"
   ]
  },
  {
   "cell_type": "markdown",
   "metadata": {},
   "source": [
    "Another way to force the autoencoder to learn useful features is to add noise to its inputs, training it to recover the original, noise-free inputs. This prevents the autoencoder from trivially copying its inputs to its outputs, so it ends up having to find patterns in the data."
   ]
  },
  {
   "cell_type": "markdown",
   "metadata": {},
   "source": [
    "The noise can be pure Gaussian noise added to the inputs, or it can be randomly switched off inputs, just like in dropout."
   ]
  },
  {
   "cell_type": "markdown",
   "metadata": {},
   "source": [
    "Using Gaussian noise;"
   ]
  },
  {
   "cell_type": "code",
   "execution_count": 40,
   "metadata": {},
   "outputs": [],
   "source": [
    "reset_graph()\n",
    "\n",
    "n_inputs = 28*28\n",
    "n_hidden1 = 300\n",
    "n_hidden2 = 150    #codings\n",
    "n_hidden3 = n_hidden1\n",
    "n_outputs = n_inputs\n",
    "\n",
    "learning_rate = 0.01\n",
    "noise_level = 1.0\n",
    "\n",
    "X = tf.placeholder(tf.float32, shape = [None, n_inputs])\n",
    "X_noisy = X + noise_level * tf.random_normal(tf.shape(X))\n",
    "\n",
    "hidden1 = tf.layers.dense(X_noisy, n_hidden1, activation = tf.nn.relu, name = \"hidden1\")\n",
    "hidden2 = tf.layers.dense(hidden1, n_hidden2, activation = tf.nn.relu, name = \"hidden2\")\n",
    "hidden3 = tf.layers.dense(hidden2, n_hidden3, activation = tf.nn.relu, name = \"hidden3\")\n",
    "outputs = tf.layers.dense(hidden3, n_outputs, name = \"outputs\")\n",
    "\n",
    "reconstruction_loss = tf.reduce_mean(tf.square(outputs - X))    #MSE"
   ]
  },
  {
   "cell_type": "code",
   "execution_count": 41,
   "metadata": {},
   "outputs": [],
   "source": [
    "optimizer = tf.train.AdamOptimizer(learning_rate)\n",
    "training_op = optimizer.minimize(reconstruction_loss)\n",
    "    \n",
    "init = tf.global_variables_initializer()\n",
    "saver = tf.train.Saver()"
   ]
  },
  {
   "cell_type": "code",
   "execution_count": 42,
   "metadata": {},
   "outputs": [
    {
     "name": "stdout",
     "output_type": "stream",
     "text": [
      "0 Train MSE: 0.043684468\n",
      "1 Train MSE: 0.044944283\n",
      "2 Train MSE: 0.045092955\n",
      "3 Train MSE: 0.042796224\n",
      "4 Train MSE: 0.04287088\n",
      "5 Train MSE: 0.04454955\n",
      "6 Train MSE: 0.041695315\n",
      "79% Train MSE: 0.044256493\n",
      "8 Train MSE: 0.045652304\n",
      "9 Train MSE: 0.042850543\n"
     ]
    }
   ],
   "source": [
    "n_epochs = 10\n",
    "batch_size = 150\n",
    "\n",
    "with tf.Session() as sess:\n",
    "    init.run()\n",
    "    for epoch in range(n_epochs):\n",
    "        n_batches = mnist.train.num_examples // batch_size\n",
    "        for iteration in range(n_batches):\n",
    "            print(\"\\r{}%\".format(100 * iteration // n_batches), end=\"\")\n",
    "            sys.stdout.flush()\n",
    "            X_batch, y_batch = mnist.train.next_batch(batch_size)\n",
    "            sess.run(training_op, feed_dict = {X: X_batch})\n",
    "        loss_train = reconstruction_loss.eval(feed_dict = {X: X_batch})\n",
    "        print(\"\\r{}\".format(epoch), \"Train MSE:\", loss_train)\n",
    "        saver.save(sess, \"./my_model_stacked_denoising_gaussian.ckpt\")"
   ]
  },
  {
   "cell_type": "markdown",
   "metadata": {},
   "source": [
    "Using Dropout; more common"
   ]
  },
  {
   "cell_type": "code",
   "execution_count": 43,
   "metadata": {},
   "outputs": [
    {
     "name": "stdout",
     "output_type": "stream",
     "text": [
      "WARNING:tensorflow:From <ipython-input-43-b578b6b188e1>:15: dropout (from tensorflow.python.layers.core) is deprecated and will be removed in a future version.\n",
      "Instructions for updating:\n",
      "Use keras.layers.dropout instead.\n",
      "WARNING:tensorflow:From C:\\Users\\manog\\Anaconda3\\lib\\site-packages\\tensorflow\\python\\keras\\layers\\core.py:143: calling dropout (from tensorflow.python.ops.nn_ops) with keep_prob is deprecated and will be removed in a future version.\n",
      "Instructions for updating:\n",
      "Please use `rate` instead of `keep_prob`. Rate should be set to `rate = 1 - keep_prob`.\n"
     ]
    }
   ],
   "source": [
    "reset_graph()\n",
    "\n",
    "n_inputs = 28*28\n",
    "n_hidden1 = 300\n",
    "n_hidden2 = 150    #codings\n",
    "n_hidden3 = n_hidden1\n",
    "n_outputs = n_inputs\n",
    "\n",
    "learning_rate = 0.01\n",
    "dropout_rate = 0.3\n",
    "\n",
    "training = tf.placeholder_with_default(False, shape = (), name = 'training')\n",
    "\n",
    "X = tf.placeholder(tf.float32, shape = [None, n_inputs])\n",
    "X_drop = tf.layers.dropout(X, dropout_rate, training = training)\n",
    "\n",
    "hidden1 = tf.layers.dense(X_drop, n_hidden1, activation = tf.nn.relu, name = \"hidden1\")\n",
    "hidden2 = tf.layers.dense(hidden1, n_hidden2, activation = tf.nn.relu, name = \"hidden2\")\n",
    "hidden3 = tf.layers.dense(hidden2, n_hidden3, activation = tf.nn.relu, name = \"hidden3\")\n",
    "outputs = tf.layers.dense(hidden3, n_outputs, name = \"outputs\")\n",
    "\n",
    "reconstruction_loss = tf.reduce_mean(tf.square(outputs - X))    #MSE"
   ]
  },
  {
   "cell_type": "code",
   "execution_count": 44,
   "metadata": {},
   "outputs": [],
   "source": [
    "optimizer = tf.train.AdamOptimizer(learning_rate)\n",
    "training_op = optimizer.minimize(reconstruction_loss)\n",
    "    \n",
    "init = tf.global_variables_initializer()\n",
    "saver = tf.train.Saver()"
   ]
  },
  {
   "cell_type": "code",
   "execution_count": 45,
   "metadata": {},
   "outputs": [
    {
     "name": "stdout",
     "output_type": "stream",
     "text": [
      "0 Train MSE: 0.030222915\n",
      "1 Train MSE: 0.02716258\n",
      "2 Train MSE: 0.025454944\n",
      "3 Train MSE: 0.026437597\n",
      "4 Train MSE: 0.023596678\n",
      "5 Train MSE: 0.02282883\n",
      "6 Train MSE: 0.024043314\n",
      "7 Train MSE: 0.023618218\n",
      "8 Train MSE: 0.023579607\n",
      "9 Train MSE: 0.022849403\n"
     ]
    }
   ],
   "source": [
    "n_epochs = 10\n",
    "batch_size = 150\n",
    "\n",
    "with tf.Session() as sess:\n",
    "    init.run()\n",
    "    for epoch in range(n_epochs):\n",
    "        n_batches = mnist.train.num_examples // batch_size\n",
    "        for iteration in range(n_batches):\n",
    "            print(\"\\r{}%\".format(100 * iteration // n_batches), end=\"\")\n",
    "            sys.stdout.flush()\n",
    "            X_batch, y_batch = mnist.train.next_batch(batch_size)\n",
    "            sess.run(training_op, feed_dict = {X: X_batch, training: True})\n",
    "        loss_train = reconstruction_loss.eval(feed_dict = {X: X_batch})\n",
    "        print(\"\\r{}\".format(epoch), \"Train MSE:\", loss_train)\n",
    "        saver.save(sess, \"./my_model_stacked_denoising_dropout.ckpt\")"
   ]
  },
  {
   "cell_type": "code",
   "execution_count": 46,
   "metadata": {},
   "outputs": [
    {
     "name": "stdout",
     "output_type": "stream",
     "text": [
      "INFO:tensorflow:Restoring parameters from ./my_model_stacked_denoising_dropout.ckpt\n"
     ]
    },
    {
     "data": {
      "image/png": "[encoded data removed]",
      "text/plain": [
       "<Figure size 576x432 with 4 Axes>"
      ]
     },
     "metadata": {
      "needs_background": "light"
     },
     "output_type": "display_data"
    }
   ],
   "source": [
    "show_reconstructed_digits(X, outputs, \"./my_model_stacked_denoising_dropout.ckpt\")"
   ]
  },
  {
   "cell_type": "markdown",
   "metadata": {},
   "source": [
    "Sparse Autoencoder"
   ]
  },
  {
   "cell_type": "code",
   "execution_count": 47,
   "metadata": {},
   "outputs": [],
   "source": [
    "reset_graph()\n",
    "\n",
    "n_inputs = 28*28\n",
    "n_hidden1 = 1000    #sparse codings\n",
    "n_outputs = n_inputs"
   ]
  },
  {
   "cell_type": "code",
   "execution_count": 48,
   "metadata": {},
   "outputs": [
    {
     "name": "stdout",
     "output_type": "stream",
     "text": [
      "WARNING:tensorflow:From C:\\Users\\manog\\Anaconda3\\lib\\site-packages\\tensorflow\\python\\ops\\math_ops.py:3066: to_int32 (from tensorflow.python.ops.math_ops) is deprecated and will be removed in a future version.\n",
      "Instructions for updating:\n",
      "Use tf.cast instead.\n"
     ]
    }
   ],
   "source": [
    "# Kullback Leibler divergence\n",
    "def kl_divergence(p, q):\n",
    "    return p * tf.log(p / q) + (1 - p) * tf.log((1 - p) / (1 - q))\n",
    "\n",
    "learning_rate = 0.01\n",
    "sparsity_target = 0.1\n",
    "sparsity_weight = 0.2\n",
    "\n",
    "X = tf.placeholder(tf.float32, shape = [None, n_inputs])\n",
    "\n",
    "hidden1 = tf.layers.dense(X, n_hidden1, activation = tf.nn.sigmoid)\n",
    "outputs = tf.layers.dense(hidden1, n_outputs)\n",
    "\n",
    "hidden1_mean = tf.reduce_mean(hidden1, axis = 0)\n",
    "sparsity_loss = tf.reduce_sum(kl_divergence(sparsity_target, hidden1_mean))\n",
    "reconstruction_loss = tf.reduce_mean(tf.square(outputs - X))    #MSE\n",
    "loss = reconstruction_loss + sparsity_weight * sparsity_loss\n",
    "\n",
    "optimizer = tf.train.AdamOptimizer(learning_rate)\n",
    "training_op = optimizer.minimize(loss)\n",
    "\n",
    "init = tf.global_variables_initializer()\n",
    "saver = tf.train.Saver()"
   ]
  },
  {
   "cell_type": "code",
   "execution_count": 49,
   "metadata": {},
   "outputs": [
    {
     "name": "stdout",
     "output_type": "stream",
     "text": [
      "0 Train MSE: 0.13849652 \tSparsity loss: 0.19226234 \tTotal loss: 0.176949\n",
      "1 Train MSE: 0.059294574 \tSparsity loss: 0.038990766 \tTotal loss: 0.067092724\n",
      "2 Train MSE: 0.051892526 \tSparsity loss: 0.27790207 \tTotal loss: 0.10747294\n",
      "3 Train MSE: 0.047694795 \tSparsity loss: 0.028206684 \tTotal loss: 0.053336132\n",
      "4 Train MSE: 0.046148617 \tSparsity loss: 0.20140159 \tTotal loss: 0.08642894\n",
      "5 Train MSE: 0.040703077 \tSparsity loss: 0.21758282 \tTotal loss: 0.08421964\n",
      "6 Train MSE: 0.03868208 \tSparsity loss: 0.14870587 \tTotal loss: 0.06842326\n",
      "7 Train MSE: 0.036804788 \tSparsity loss: 0.039616786 \tTotal loss: 0.044728145\n",
      "8 Train MSE: 0.033982385 \tSparsity loss: 0.038040016 \tTotal loss: 0.04159039\n",
      "9 Train MSE: 0.02993908 \tSparsity loss: 0.054716628 \tTotal loss: 0.040882405\n",
      "10 Train MSE: 0.029206643 \tSparsity loss: 0.26570264 \tTotal loss: 0.08234717\n",
      "11 Train MSE: 0.026094545 \tSparsity loss: 0.21701992 \tTotal loss: 0.069498524\n",
      "12 Train MSE: 0.024054186 \tSparsity loss: 0.03956054 \tTotal loss: 0.031966295\n",
      "13 Train MSE: 0.022379585 \tSparsity loss: 0.112042695 \tTotal loss: 0.044788122\n",
      "14 Train MSE: 0.02050704 \tSparsity loss: 0.26735678 \tTotal loss: 0.073978394\n",
      "15 Train MSE: 0.019849947 \tSparsity loss: 0.042519692 \tTotal loss: 0.028353885\n",
      "16 Train MSE: 0.019721908 \tSparsity loss: 0.1327104 \tTotal loss: 0.04626399\n",
      "17 Train MSE: 0.01922629 \tSparsity loss: 0.20113187 \tTotal loss: 0.059452664\n",
      "18 Train MSE: 0.017517513 \tSparsity loss: 0.023862869 \tTotal loss: 0.022290086\n",
      "19 Train MSE: 0.017693132 \tSparsity loss: 0.058764566 \tTotal loss: 0.029446047\n",
      "20 Train MSE: 0.017651722 \tSparsity loss: 0.16067743 \tTotal loss: 0.04978721\n",
      "21 Train MSE: 0.016551847 \tSparsity loss: 0.07857774 \tTotal loss: 0.032267395\n",
      "22 Train MSE: 0.016239008 \tSparsity loss: 0.05710214 \tTotal loss: 0.027659435\n",
      "23 Train MSE: 0.015301808 \tSparsity loss: 0.058087885 \tTotal loss: 0.026919385\n",
      "24 Train MSE: 0.015707016 \tSparsity loss: 0.059809413 \tTotal loss: 0.027668899\n",
      "25 Train MSE: 0.015285435 \tSparsity loss: 0.04410734 \tTotal loss: 0.024106903\n",
      "26 Train MSE: 0.015406631 \tSparsity loss: 0.213046 \tTotal loss: 0.05801583\n",
      "27 Train MSE: 0.014790141 \tSparsity loss: 0.06750746 \tTotal loss: 0.028291633\n",
      "28 Train MSE: 0.013935404 \tSparsity loss: 0.038358152 \tTotal loss: 0.021607034\n",
      "29 Train MSE: 0.015165681 \tSparsity loss: 0.19720411 \tTotal loss: 0.054606505\n",
      "30 Train MSE: 0.014086122 \tSparsity loss: 0.07130267 \tTotal loss: 0.028346654\n",
      "31 Train MSE: 0.014347293 \tSparsity loss: 0.08168073 \tTotal loss: 0.03068344\n",
      "32 Train MSE: 0.013976024 \tSparsity loss: 0.081011675 \tTotal loss: 0.03017836\n",
      "33 Train MSE: 0.015727546 \tSparsity loss: 0.18360457 \tTotal loss: 0.05244846\n",
      "34 Train MSE: 0.015434003 \tSparsity loss: 0.15634832 \tTotal loss: 0.04670367\n",
      "35 Train MSE: 0.013588277 \tSparsity loss: 0.12040563 \tTotal loss: 0.0376694\n",
      "36 Train MSE: 0.01303474 \tSparsity loss: 0.39239565 \tTotal loss: 0.09151387\n",
      "37 Train MSE: 0.01324165 \tSparsity loss: 0.058592096 \tTotal loss: 0.024960069\n",
      "38 Train MSE: 0.012498461 \tSparsity loss: 0.04121525 \tTotal loss: 0.020741511\n",
      "39 Train MSE: 0.013629546 \tSparsity loss: 0.21091092 \tTotal loss: 0.055811733\n",
      "40 Train MSE: 0.012695554 \tSparsity loss: 0.11396901 \tTotal loss: 0.035489358\n",
      "41 Train MSE: 0.012089782 \tSparsity loss: 0.13226144 \tTotal loss: 0.03854207\n",
      "42 Train MSE: 0.012214462 \tSparsity loss: 0.106375225 \tTotal loss: 0.033489507\n",
      "43 Train MSE: 0.013068002 \tSparsity loss: 0.19205259 \tTotal loss: 0.05147852\n",
      "44 Train MSE: 0.013827005 \tSparsity loss: 0.0964 \tTotal loss: 0.033107005\n",
      "45 Train MSE: 0.011801209 \tSparsity loss: 0.05446598 \tTotal loss: 0.022694405\n",
      "46 Train MSE: 0.012655124 \tSparsity loss: 0.07732451 \tTotal loss: 0.028120026\n",
      "47 Train MSE: 0.011616572 \tSparsity loss: 0.057156764 \tTotal loss: 0.023047924\n",
      "48 Train MSE: 0.013442955 \tSparsity loss: 0.09378026 \tTotal loss: 0.032199007\n",
      "49 Train MSE: 0.011591661 \tSparsity loss: 0.09934041 \tTotal loss: 0.03145974\n",
      "50 Train MSE: 0.012812569 \tSparsity loss: 0.10685217 \tTotal loss: 0.034183003\n",
      "51 Train MSE: 0.0126900785 \tSparsity loss: 0.24940042 \tTotal loss: 0.06257016\n",
      "52 Train MSE: 0.01205516 \tSparsity loss: 0.15599418 \tTotal loss: 0.043253995\n",
      "53 Train MSE: 0.011180198 \tSparsity loss: 0.10984174 \tTotal loss: 0.033148546\n",
      "54 Train MSE: 0.010967345 \tSparsity loss: 0.2441135 \tTotal loss: 0.059790045\n",
      "55 Train MSE: 0.011514151 \tSparsity loss: 0.08323385 \tTotal loss: 0.028160922\n",
      "56 Train MSE: 0.012518136 \tSparsity loss: 0.23711851 \tTotal loss: 0.059941836\n",
      "57 Train MSE: 0.011816082 \tSparsity loss: 0.12144633 \tTotal loss: 0.036105346\n",
      "58 Train MSE: 0.011499004 \tSparsity loss: 0.11723977 \tTotal loss: 0.03494696\n",
      "59 Train MSE: 0.0117325485 \tSparsity loss: 0.23862298 \tTotal loss: 0.059457146\n",
      "60 Train MSE: 0.011283443 \tSparsity loss: 0.30201375 \tTotal loss: 0.07168619\n",
      "61 Train MSE: 0.011528368 \tSparsity loss: 0.16288546 \tTotal loss: 0.044105463\n",
      "62 Train MSE: 0.011576368 \tSparsity loss: 0.21427524 \tTotal loss: 0.054431416\n",
      "63 Train MSE: 0.012065516 \tSparsity loss: 0.2585773 \tTotal loss: 0.06378098\n",
      "64 Train MSE: 0.011514523 \tSparsity loss: 0.09384098 \tTotal loss: 0.03028272\n",
      "65 Train MSE: 0.012042782 \tSparsity loss: 0.123628825 \tTotal loss: 0.03676855\n",
      "66 Train MSE: 0.0115461815 \tSparsity loss: 0.13730064 \tTotal loss: 0.039006308\n",
      "67 Train MSE: 0.011626925 \tSparsity loss: 0.121354446 \tTotal loss: 0.035897814\n",
      "68 Train MSE: 0.012141534 \tSparsity loss: 0.40670902 \tTotal loss: 0.093483336\n",
      "69 Train MSE: 0.012085047 \tSparsity loss: 0.23733322 \tTotal loss: 0.059551693\n",
      "70 Train MSE: 0.018906623 \tSparsity loss: 0.7199093 \tTotal loss: 0.16288848\n",
      "71 Train MSE: 0.011936204 \tSparsity loss: 0.12209038 \tTotal loss: 0.03635428\n",
      "72 Train MSE: 0.011266943 \tSparsity loss: 0.14478388 \tTotal loss: 0.040223718\n",
      "73 Train MSE: 0.013670915 \tSparsity loss: 0.25514156 \tTotal loss: 0.064699225\n",
      "74 Train MSE: 0.019252745 \tSparsity loss: 0.22659633 \tTotal loss: 0.064572014\n",
      "75 Train MSE: 0.021076476 \tSparsity loss: 0.123926334 \tTotal loss: 0.045861743\n",
      "76 Train MSE: 0.016239602 \tSparsity loss: 0.423195 \tTotal loss: 0.10087861\n",
      "77 Train MSE: 0.01472204 \tSparsity loss: 0.16910058 \tTotal loss: 0.048542157\n",
      "78 Train MSE: 0.016634455 \tSparsity loss: 0.2386654 \tTotal loss: 0.06436753\n",
      "79 Train MSE: 0.020158239 \tSparsity loss: 0.45373026 \tTotal loss: 0.11090429\n",
      "80 Train MSE: 0.018681578 \tSparsity loss: 0.32718003 \tTotal loss: 0.084117584\n",
      "81 Train MSE: 0.012367406 \tSparsity loss: 0.77050894 \tTotal loss: 0.1664692\n",
      "82 Train MSE: 0.011802072 \tSparsity loss: 0.24705268 \tTotal loss: 0.061212607\n",
      "83 Train MSE: 0.0265568 \tSparsity loss: 0.26161492 \tTotal loss: 0.07887978\n",
      "84 Train MSE: 0.015661709 \tSparsity loss: 0.1578941 \tTotal loss: 0.04724053\n",
      "85 Train MSE: 0.01870066 \tSparsity loss: 0.3582585 \tTotal loss: 0.09035236\n",
      "86 Train MSE: 0.04972906 \tSparsity loss: 0.5994861 \tTotal loss: 0.16962628\n",
      "87 Train MSE: 0.084067814 \tSparsity loss: 1.9413078 \tTotal loss: 0.47232938\n",
      "88 Train MSE: 0.017534204 \tSparsity loss: 0.29809314 \tTotal loss: 0.07715283\n",
      "89 Train MSE: 0.034263033 \tSparsity loss: 0.5920782 \tTotal loss: 0.15267868\n",
      "90 Train MSE: 0.027422937 \tSparsity loss: 0.2931057 \tTotal loss: 0.08604407\n",
      "91 Train MSE: 0.013844842 \tSparsity loss: 0.29022554 \tTotal loss: 0.07188995\n",
      "92 Train MSE: 0.014483824 \tSparsity loss: 0.6038435 \tTotal loss: 0.13525254\n",
      "93 Train MSE: 0.013023565 \tSparsity loss: 0.3759599 \tTotal loss: 0.088215545\n",
      "94 Train MSE: 0.018577943 \tSparsity loss: 0.09633125 \tTotal loss: 0.037844196\n",
      "95 Train MSE: 0.026742786 \tSparsity loss: 1.292681 \tTotal loss: 0.28527898\n",
      "96 Train MSE: 0.018713027 \tSparsity loss: 0.12699372 \tTotal loss: 0.044111773\n",
      "97 Train MSE: 0.023977147 \tSparsity loss: 0.3481828 \tTotal loss: 0.09361371\n",
      "98 Train MSE: 0.01764131 \tSparsity loss: 0.11800009 \tTotal loss: 0.041241325\n",
      "99 Train MSE: 0.020674137 \tSparsity loss: 0.78788805 \tTotal loss: 0.17825176\n"
     ]
    }
   ],
   "source": [
    "n_epochs = 100\n",
    "batch_size = 1000\n",
    "\n",
    "with tf.Session() as sess:\n",
    "    init.run()\n",
    "    for epoch in range(n_epochs):\n",
    "        n_batches = mnist.train.num_examples // batch_size\n",
    "        for iteration in range(n_batches):\n",
    "            print(\"\\r{}%\".format(100 * iteration // n_batches), end=\"\")\n",
    "            sys.stdout.flush()\n",
    "            X_batch, y_batch = mnist.train.next_batch(batch_size)\n",
    "            sess.run(training_op, feed_dict = {X: X_batch})\n",
    "        reconstruction_loss_val, sparsity_loss_val, loss_val = sess.run([reconstruction_loss, sparsity_loss, loss],\n",
    "                                                                        feed_dict = {X: X_batch})\n",
    "        print(\"\\r{}\".format(epoch), \"Train MSE:\", reconstruction_loss_val, \"\\tSparsity loss:\", sparsity_loss_val,\n",
    "              \"\\tTotal loss:\", loss_val)\n",
    "        saver.save(sess, \"./my_model_sparse.ckpt\")"
   ]
  },
  {
   "cell_type": "code",
   "execution_count": 50,
   "metadata": {},
   "outputs": [
    {
     "name": "stdout",
     "output_type": "stream",
     "text": [
      "INFO:tensorflow:Restoring parameters from ./my_model_sparse.ckpt\n"
     ]
    },
    {
     "data": {
      "image/png": "[encoded data removed]",
      "text/plain": [
       "<Figure size 576x432 with 4 Axes>"
      ]
     },
     "metadata": {
      "needs_background": "light"
     },
     "output_type": "display_data"
    }
   ],
   "source": [
    "show_reconstructed_digits(X, outputs, \"./my_model_sparse.ckpt\")"
   ]
  },
  {
   "cell_type": "markdown",
   "metadata": {},
   "source": [
    "Variational Autoencoder"
   ]
  },
  {
   "cell_type": "code",
   "execution_count": 51,
   "metadata": {},
   "outputs": [],
   "source": [
    "reset_graph()\n",
    "\n",
    "from functools import partial\n",
    "\n",
    "n_inputs = 28*28\n",
    "n_hidden1 = 500\n",
    "n_hidden2 = 500\n",
    "n_hidden3 = 20    #codings\n",
    "n_hidden4 = n_hidden2\n",
    "n_hidden5 = n_hidden1\n",
    "n_outputs = n_inputs\n",
    "learning_rate = 0.001\n",
    "\n",
    "initializer = tf.contrib.layers.variance_scaling_initializer()\n",
    "\n",
    "my_dense_layer = partial(tf.layers.dense, activation = tf.nn.elu, kernel_initializer = initializer)\n",
    "\n",
    "X = tf.placeholder(tf.float32, [None, n_inputs])\n",
    "hidden1 = my_dense_layer(X, n_hidden1)\n",
    "hidden2 = my_dense_layer(hidden1, n_hidden2)\n",
    "hidden3_mean = my_dense_layer(hidden2, n_hidden3, activation = None)\n",
    "hidden3_sigma = my_dense_layer(hidden2, n_hidden3, activation = None)\n",
    "noise = tf.random_normal(tf.shape(hidden3_sigma), dtype = tf.float32)\n",
    "hidden3 = hidden3_mean + hidden3_sigma * noise\n",
    "hidden4 = my_dense_layer(hidden3, n_hidden4)\n",
    "hidden5 = my_dense_layer(hidden4, n_hidden5)\n",
    "logits = my_dense_layer(hidden5, n_outputs, activation = None)\n",
    "outputs = tf.sigmoid(logits)\n",
    "\n",
    "xentropy = tf.nn.sigmoid_cross_entropy_with_logits(labels = X, logits = logits)\n",
    "reconstruction_loss = tf.reduce_sum(xentropy)\n",
    "\n",
    "eps = 1e-10     #smoothing term to avoid computing log(0) which is NaN\n",
    "latent_loss = 0.5 * tf.reduce_sum(tf.square(hidden3_sigma) + tf.square(hidden3_mean) - 1 - tf.log(eps + tf.square(hidden3_sigma)))\n",
    "\n",
    "loss = reconstruction_loss + latent_loss\n",
    "\n",
    "optimizer = tf.train.AdamOptimizer(learning_rate = learning_rate)\n",
    "training_op = optimizer.minimize(loss)\n",
    "\n",
    "init = tf.global_variables_initializer()\n",
    "saver = tf.train.Saver()"
   ]
  },
  {
   "cell_type": "code",
   "execution_count": 52,
   "metadata": {},
   "outputs": [
    {
     "name": "stdout",
     "output_type": "stream",
     "text": [
      "0 Train total loss: 33016.66 \tReconstruction loss: 27020.271 \tLatent loss: 5996.3877\n",
      "1 Train total loss: 34717.66 \tReconstruction loss: 25899.926 \tLatent loss: 8817.734\n",
      "2 Train total loss: 26549.219 \tReconstruction loss: 21659.855 \tLatent loss: 4889.363\n",
      "3 Train total loss: 21738.217 \tReconstruction loss: 18590.555 \tLatent loss: 3147.662\n",
      "4 Train total loss: 20854.191 \tReconstruction loss: 17953.258 \tLatent loss: 2900.9336\n",
      "5 Train total loss: 21059.09 \tReconstruction loss: 18050.514 \tLatent loss: 3008.5757\n",
      "6 Train total loss: 19164.043 \tReconstruction loss: 16320.664 \tLatent loss: 2843.38\n",
      "7 Train total loss: 17970.008 \tReconstruction loss: 15064.506 \tLatent loss: 2905.501\n",
      "8 Train total loss: 17843.7 \tReconstruction loss: 14951.9 \tLatent loss: 2891.7986\n",
      "9 Train total loss: 16704.94 \tReconstruction loss: 13688.333 \tLatent loss: 3016.6064\n",
      "10 Train total loss: 16600.93 \tReconstruction loss: 13543.409 \tLatent loss: 3057.5215\n",
      "11 Train total loss: 16872.088 \tReconstruction loss: 13850.982 \tLatent loss: 3021.105\n",
      "12 Train total loss: 16455.602 \tReconstruction loss: 13461.205 \tLatent loss: 2994.3972\n",
      "13 Train total loss: 16037.894 \tReconstruction loss: 13033.422 \tLatent loss: 3004.4717\n",
      "14 Train total loss: 17757.809 \tReconstruction loss: 14788.451 \tLatent loss: 2969.3567\n",
      "15 Train total loss: 17528.674 \tReconstruction loss: 14312.0625 \tLatent loss: 3216.6106\n",
      "16 Train total loss: 25217.076 \tReconstruction loss: 21411.238 \tLatent loss: 3805.8372\n",
      "17 Train total loss: 24029.648 \tReconstruction loss: 19805.05 \tLatent loss: 4224.5986\n",
      "18 Train total loss: 22586.29 \tReconstruction loss: 18622.781 \tLatent loss: 3963.5073\n",
      "19 Train total loss: 18939.621 \tReconstruction loss: 15925.607 \tLatent loss: 3014.0142\n",
      "20 Train total loss: 17612.014 \tReconstruction loss: 14513.652 \tLatent loss: 3098.3613\n",
      "21 Train total loss: 16312.46 \tReconstruction loss: 13027.309 \tLatent loss: 3285.1514\n",
      "22 Train total loss: 16164.292 \tReconstruction loss: 12931.455 \tLatent loss: 3232.8372\n",
      "23 Train total loss: 16626.445 \tReconstruction loss: 13104.48 \tLatent loss: 3521.9648\n",
      "24 Train total loss: 15817.777 \tReconstruction loss: 12831.633 \tLatent loss: 2986.144\n",
      "25 Train total loss: 16346.046 \tReconstruction loss: 12925.084 \tLatent loss: 3420.962\n",
      "26 Train total loss: 16354.849 \tReconstruction loss: 13117.141 \tLatent loss: 3237.7083\n",
      "27 Train total loss: 16395.188 \tReconstruction loss: 13101.149 \tLatent loss: 3294.038\n",
      "28 Train total loss: 15672.9375 \tReconstruction loss: 12472.34 \tLatent loss: 3200.5981\n",
      "29 Train total loss: 16127.965 \tReconstruction loss: 12636.528 \tLatent loss: 3491.4368\n",
      "30 Train total loss: 20677.186 \tReconstruction loss: 17044.055 \tLatent loss: 3633.1304\n",
      "31 Train total loss: 16995.059 \tReconstruction loss: 13938.078 \tLatent loss: 3056.9805\n",
      "32 Train total loss: 15637.027 \tReconstruction loss: 12426.002 \tLatent loss: 3211.0251\n",
      "33 Train total loss: 16207.695 \tReconstruction loss: 12848.389 \tLatent loss: 3359.3071\n",
      "34 Train total loss: 15649.057 \tReconstruction loss: 12004.615 \tLatent loss: 3644.441\n",
      "35 Train total loss: 17271.914 \tReconstruction loss: 14002.645 \tLatent loss: 3269.2693\n",
      "36 Train total loss: 25884.268 \tReconstruction loss: 20474.229 \tLatent loss: 5410.0386\n",
      "37 Train total loss: 17042.645 \tReconstruction loss: 13780.242 \tLatent loss: 3262.4023\n",
      "38 Train total loss: 16673.297 \tReconstruction loss: 13229.335 \tLatent loss: 3443.9626\n",
      "39 Train total loss: 15449.235 \tReconstruction loss: 12153.612 \tLatent loss: 3295.6228\n",
      "40 Train total loss: 17567.836 \tReconstruction loss: 13808.992 \tLatent loss: 3758.843\n",
      "41 Train total loss: 15282.755 \tReconstruction loss: 11905.845 \tLatent loss: 3376.9102\n",
      "42 Train total loss: 15376.584 \tReconstruction loss: 11997.758 \tLatent loss: 3378.826\n",
      "43 Train total loss: 15320.679 \tReconstruction loss: 11987.396 \tLatent loss: 3333.2822\n",
      "44 Train total loss: 16948.742 \tReconstruction loss: 13820.184 \tLatent loss: 3128.5588\n",
      "45 Train total loss: 16284.859 \tReconstruction loss: 12688.945 \tLatent loss: 3595.9136\n",
      "46 Train total loss: 18395.402 \tReconstruction loss: 14756.309 \tLatent loss: 3639.0947\n",
      "47 Train total loss: 15617.487 \tReconstruction loss: 12302.416 \tLatent loss: 3315.0713\n",
      "48 Train total loss: 15593.773 \tReconstruction loss: 12109.682 \tLatent loss: 3484.0918\n",
      "49 Train total loss: 15590.836 \tReconstruction loss: 12340.8125 \tLatent loss: 3250.0237\n"
     ]
    }
   ],
   "source": [
    "n_epochs = 50\n",
    "batch_size = 150\n",
    "\n",
    "with tf.Session() as sess:\n",
    "    init.run()\n",
    "    for epoch in range(n_epochs):\n",
    "        n_batches = mnist.train.num_examples // batch_size\n",
    "        for iteration in range(n_batches):\n",
    "            print(\"\\r{}%\".format(100 * iteration // n_batches), end = \"\")\n",
    "            sys.stdout.flush()\n",
    "            X_batch, y_batch = mnist.train.next_batch(batch_size)\n",
    "            sess.run(training_op, feed_dict = {X: X_batch})\n",
    "        loss_val, reconstruction_loss_val, latent_loss_val = sess.run([loss, reconstruction_loss, latent_loss],\n",
    "                                                                      feed_dict = {X: X_batch})\n",
    "        print(\"\\r{}\".format(epoch), \"Train total loss:\", loss_val, \"\\tReconstruction loss:\", reconstruction_loss_val,\n",
    "              \"\\tLatent loss:\", latent_loss_val)\n",
    "        saver.save(sess, \"./my_model_variational.ckpt\")"
   ]
  },
  {
   "cell_type": "markdown",
   "metadata": {},
   "source": [
    "Generating digits"
   ]
  },
  {
   "cell_type": "markdown",
   "metadata": {},
   "source": [
    "Now, we will use this variational autoencoder to generate images that look like handwritten digits."
   ]
  },
  {
   "cell_type": "markdown",
   "metadata": {},
   "source": [
    "We need to do is train the model, then sample random codings from a Gaussian distribution and decode them."
   ]
  },
  {
   "cell_type": "code",
   "execution_count": 53,
   "metadata": {},
   "outputs": [
    {
     "name": "stdout",
     "output_type": "stream",
     "text": [
      "0 Train total loss: 31102.291 \tReconstruction loss: 24958.941 \tLatent loss: 6143.35\n",
      "1 Train total loss: 28777.588 \tReconstruction loss: 23376.793 \tLatent loss: 5400.795\n",
      "2 Train total loss: 24268.324 \tReconstruction loss: 21689.402 \tLatent loss: 2578.921\n",
      "3 Train total loss: 23644.428 \tReconstruction loss: 20386.447 \tLatent loss: 3257.9805\n",
      "4 Train total loss: 19530.55 \tReconstruction loss: 16818.324 \tLatent loss: 2712.2258\n",
      "5 Train total loss: 18597.32 \tReconstruction loss: 15670.705 \tLatent loss: 2926.6157\n",
      "6 Train total loss: 18103.113 \tReconstruction loss: 15001.628 \tLatent loss: 3101.4846\n",
      "7 Train total loss: 17457.916 \tReconstruction loss: 14325.611 \tLatent loss: 3132.3047\n",
      "8 Train total loss: 16278.554 \tReconstruction loss: 13099.473 \tLatent loss: 3179.0813\n",
      "9 Train total loss: 17068.0 \tReconstruction loss: 13890.867 \tLatent loss: 3177.1323\n",
      "10 Train total loss: 16446.283 \tReconstruction loss: 13136.396 \tLatent loss: 3309.8867\n",
      "11 Train total loss: 16244.844 \tReconstruction loss: 13033.193 \tLatent loss: 3211.65\n",
      "12 Train total loss: 16767.617 \tReconstruction loss: 13498.573 \tLatent loss: 3269.0435\n",
      "13 Train total loss: 15938.404 \tReconstruction loss: 12658.85 \tLatent loss: 3279.5547\n",
      "14 Train total loss: 20212.781 \tReconstruction loss: 16305.562 \tLatent loss: 3907.2207\n",
      "15 Train total loss: 20302.352 \tReconstruction loss: 16164.261 \tLatent loss: 4138.0903\n",
      "16 Train total loss: 27659.281 \tReconstruction loss: 22365.979 \tLatent loss: 5293.302\n",
      "17 Train total loss: 20049.363 \tReconstruction loss: 16496.775 \tLatent loss: 3552.587\n",
      "18 Train total loss: 20407.73 \tReconstruction loss: 16558.102 \tLatent loss: 3849.629\n",
      "19 Train total loss: 17366.889 \tReconstruction loss: 14103.676 \tLatent loss: 3263.2122\n",
      "20 Train total loss: 16205.735 \tReconstruction loss: 12923.39 \tLatent loss: 3282.3457\n",
      "21 Train total loss: 15771.102 \tReconstruction loss: 12407.496 \tLatent loss: 3363.6057\n",
      "22 Train total loss: 15707.13 \tReconstruction loss: 12343.453 \tLatent loss: 3363.6768\n",
      "23 Train total loss: 15467.854 \tReconstruction loss: 12057.764 \tLatent loss: 3410.0896\n",
      "24 Train total loss: 17211.525 \tReconstruction loss: 13987.281 \tLatent loss: 3224.2446\n",
      "25 Train total loss: 17613.121 \tReconstruction loss: 13777.789 \tLatent loss: 3835.333\n",
      "26 Train total loss: 16181.269 \tReconstruction loss: 12581.797 \tLatent loss: 3599.472\n",
      "27 Train total loss: 15098.845 \tReconstruction loss: 11895.481 \tLatent loss: 3203.3635\n",
      "28 Train total loss: 15252.883 \tReconstruction loss: 11886.51 \tLatent loss: 3366.373\n",
      "29 Train total loss: 15396.428 \tReconstruction loss: 11988.033 \tLatent loss: 3408.394\n",
      "30 Train total loss: 32984.61 \tReconstruction loss: 26731.135 \tLatent loss: 6253.4766\n",
      "31 Train total loss: 26978.453 \tReconstruction loss: 23168.291 \tLatent loss: 3810.162\n",
      "32 Train total loss: 22400.959 \tReconstruction loss: 18987.504 \tLatent loss: 3413.4543\n",
      "33 Train total loss: 17955.719 \tReconstruction loss: 14950.88 \tLatent loss: 3004.8381\n",
      "34 Train total loss: 16958.336 \tReconstruction loss: 13659.446 \tLatent loss: 3298.89\n",
      "35 Train total loss: 15885.967 \tReconstruction loss: 12519.9795 \tLatent loss: 3365.9873\n",
      "36 Train total loss: 15880.25 \tReconstruction loss: 12589.84 \tLatent loss: 3290.4102\n",
      "37 Train total loss: 15916.362 \tReconstruction loss: 12493.262 \tLatent loss: 3423.1006\n",
      "38 Train total loss: 15397.582 \tReconstruction loss: 11922.838 \tLatent loss: 3474.7441\n",
      "39 Train total loss: 15349.482 \tReconstruction loss: 12035.076 \tLatent loss: 3314.4065\n",
      "40 Train total loss: 15301.553 \tReconstruction loss: 11990.143 \tLatent loss: 3311.4106\n",
      "41 Train total loss: 15312.596 \tReconstruction loss: 11769.221 \tLatent loss: 3543.375\n",
      "42 Train total loss: 15887.305 \tReconstruction loss: 12656.105 \tLatent loss: 3231.1987\n",
      "43 Train total loss: 16977.81 \tReconstruction loss: 13347.59 \tLatent loss: 3630.2212\n",
      "44 Train total loss: 16045.754 \tReconstruction loss: 12518.994 \tLatent loss: 3526.7595\n",
      "45 Train total loss: 14910.981 \tReconstruction loss: 11468.913 \tLatent loss: 3442.068\n",
      "46 Train total loss: 16220.268 \tReconstruction loss: 12846.795 \tLatent loss: 3373.4727\n",
      "47 Train total loss: 15638.521 \tReconstruction loss: 12373.236 \tLatent loss: 3265.2856\n",
      "48 Train total loss: 15973.704 \tReconstruction loss: 12253.724 \tLatent loss: 3719.9807\n",
      "49 Train total loss: 16375.125 \tReconstruction loss: 13230.881 \tLatent loss: 3144.244\n",
      "50 Train total loss: 17465.256 \tReconstruction loss: 14230.629 \tLatent loss: 3234.6265\n",
      "51 Train total loss: 15561.16 \tReconstruction loss: 12225.064 \tLatent loss: 3336.0952\n",
      "52 Train total loss: 15073.882 \tReconstruction loss: 11856.031 \tLatent loss: 3217.8506\n",
      "53 Train total loss: 15463.99 \tReconstruction loss: 11859.543 \tLatent loss: 3604.4478\n",
      "54 Train total loss: 15449.124 \tReconstruction loss: 12252.852 \tLatent loss: 3196.2722\n",
      "55 Train total loss: 15337.057 \tReconstruction loss: 11694.99 \tLatent loss: 3642.067\n",
      "56 Train total loss: 18982.645 \tReconstruction loss: 14891.672 \tLatent loss: 4090.9731\n",
      "57 Train total loss: 16641.664 \tReconstruction loss: 13244.175 \tLatent loss: 3397.4888\n",
      "58 Train total loss: 17447.754 \tReconstruction loss: 13642.396 \tLatent loss: 3805.3567\n",
      "59 Train total loss: 18602.395 \tReconstruction loss: 15178.811 \tLatent loss: 3423.5835\n",
      "60 Train total loss: 16117.642 \tReconstruction loss: 12756.803 \tLatent loss: 3360.8389\n",
      "61 Train total loss: 15917.848 \tReconstruction loss: 12274.396 \tLatent loss: 3643.4507\n",
      "62 Train total loss: 15206.653 \tReconstruction loss: 11819.766 \tLatent loss: 3386.8877\n",
      "63 Train total loss: 15325.439 \tReconstruction loss: 11766.893 \tLatent loss: 3558.5469\n",
      "64 Train total loss: 18262.713 \tReconstruction loss: 14879.822 \tLatent loss: 3382.8901\n",
      "65 Train total loss: 15927.293 \tReconstruction loss: 12290.352 \tLatent loss: 3636.941\n",
      "66 Train total loss: 15357.475 \tReconstruction loss: 11879.162 \tLatent loss: 3478.3125\n",
      "67 Train total loss: 15096.064 \tReconstruction loss: 11693.818 \tLatent loss: 3402.246\n",
      "68 Train total loss: 15451.394 \tReconstruction loss: 11982.482 \tLatent loss: 3468.9111\n",
      "69 Train total loss: 16044.986 \tReconstruction loss: 12778.842 \tLatent loss: 3266.144\n",
      "70 Train total loss: 15533.988 \tReconstruction loss: 12100.773 \tLatent loss: 3433.2148\n",
      "71 Train total loss: 14992.676 \tReconstruction loss: 11483.18 \tLatent loss: 3509.4958\n",
      "72 Train total loss: 15981.999 \tReconstruction loss: 12647.643 \tLatent loss: 3334.3564\n",
      "73 Train total loss: 15050.585 \tReconstruction loss: 11505.269 \tLatent loss: 3545.3162\n",
      "74 Train total loss: 16705.39 \tReconstruction loss: 13148.907 \tLatent loss: 3556.4834\n"
     ]
    }
   ],
   "source": [
    "import numpy as np\n",
    "\n",
    "n_digits = 60\n",
    "n_epochs = 75\n",
    "batch_size = 150\n",
    "\n",
    "with tf.Session() as sess:\n",
    "    init.run()\n",
    "    for epoch in range(n_epochs):\n",
    "        n_batches = mnist.train.num_examples // batch_size\n",
    "        for iteration in range(n_batches):\n",
    "            print(\"\\r{}%\".format(100 * iteration // n_batches), end = \"\")\n",
    "            sys.stdout.flush()\n",
    "            X_batch, y_batch = mnist.train.next_batch(batch_size)\n",
    "            sess.run(training_op, feed_dict = {X: X_batch})\n",
    "        loss_val, reconstruction_loss_val, latent_loss_val = sess.run([loss, reconstruction_loss, latent_loss],\n",
    "                                                                      feed_dict = {X: X_batch})\n",
    "        print(\"\\r{}\".format(epoch), \"Train total loss:\", loss_val, \"\\tReconstruction loss:\", reconstruction_loss_val,\n",
    "              \"\\tLatent loss:\", latent_loss_val)\n",
    "        saver.save(sess, \"./my_model_variational.ckpt\")\n",
    "    \n",
    "    codings_rnd = np.random.normal(size = [n_digits, n_hidden3])\n",
    "    outputs_val = outputs.eval(feed_dict = {hidden3: codings_rnd})"
   ]
  },
  {
   "cell_type": "code",
   "execution_count": 54,
   "metadata": {},
   "outputs": [
    {
     "data": {
      "image/png": "[encoded data removed]",
      "text/plain": [
       "<Figure size 576x3600 with 60 Axes>"
      ]
     },
     "metadata": {
      "needs_background": "light"
     },
     "output_type": "display_data"
    }
   ],
   "source": [
    "plt.figure(figsize=(8,50))\n",
    "for iteration in range(n_digits):\n",
    "    plt.subplot(n_digits, 10, iteration + 1)\n",
    "    plot_image(outputs_val[iteration])"
   ]
  },
  {
   "cell_type": "code",
   "execution_count": null,
   "metadata": {},
   "outputs": [],
   "source": []
  }
 ],
 "metadata": {
  "kernelspec": {
   "display_name": "Python 3",
   "language": "python",
   "name": "python3"
  },
  "language_info": {
   "codemirror_mode": {
    "name": "ipython",
    "version": 3
   },
   "file_extension": ".py",
   "mimetype": "text/x-python",
   "name": "python",
   "nbconvert_exporter": "python",
   "pygments_lexer": "ipython3",
   "version": "3.7.0"
  }
 },
 "nbformat": 4,
 "nbformat_minor": 2
}
